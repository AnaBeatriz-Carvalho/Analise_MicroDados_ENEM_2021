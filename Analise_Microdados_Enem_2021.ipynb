{
  "nbformat": 4,
  "nbformat_minor": 0,
  "metadata": {
    "colab": {
      "provenance": [],
      "authorship_tag": "ABX9TyNnYLUqS8/Wx51x4m1NDsKj",
      "include_colab_link": true
    },
    "kernelspec": {
      "name": "python3",
      "display_name": "Python 3"
    },
    "language_info": {
      "name": "python"
    }
  },
  "cells": [
    {
      "cell_type": "markdown",
      "metadata": {
        "id": "view-in-github",
        "colab_type": "text"
      },
      "source": [
        "<a href=\"https://colab.research.google.com/github/AnaBeatriz-Carvalho/Analise_MicroDados_ENEM_2021/blob/main/Analise_Microdados_Enem_2021.ipynb\" target=\"_parent\"><img src=\"https://colab.research.google.com/assets/colab-badge.svg\" alt=\"Open In Colab\"/></a>"
      ]
    },
    {
      "cell_type": "code",
      "execution_count": 1,
      "metadata": {
        "id": "_JRLXth_7fU-"
      },
      "outputs": [],
      "source": [
        "import pandas as pd"
      ]
    },
    {
      "cell_type": "code",
      "source": [
        "import numpy as np"
      ],
      "metadata": {
        "id": "zNcAeIEp8TaQ"
      },
      "execution_count": 2,
      "outputs": []
    },
    {
      "cell_type": "code",
      "source": [
        "#apresentou o erro por não poder ser decodificado por UTF-8, utilizando o chardet ele pode identificar a codificação do arquivo\n",
        "import chardet"
      ],
      "metadata": {
        "id": "jZQtfRTv9w5m"
      },
      "execution_count": 3,
      "outputs": []
    },
    {
      "cell_type": "code",
      "source": [
        "with open('MICRODADOS_ENEM_2021.csv', 'rb') as f:\n",
        "    result = chardet.detect(f.read())"
      ],
      "metadata": {
        "id": "PDYMi7X89zBW"
      },
      "execution_count": 4,
      "outputs": []
    },
    {
      "cell_type": "code",
      "source": [
        "df = pd.read_csv('MICRODADOS_ENEM_2021.csv', encoding=result['encoding'], delimiter=';')"
      ],
      "metadata": {
        "id": "fvH2sNgT8Vqt"
      },
      "execution_count": 5,
      "outputs": []
    },
    {
      "cell_type": "code",
      "source": [
        "df"
      ],
      "metadata": {
        "id": "h7T48gSpNW-U",
        "colab": {
          "base_uri": "https://localhost:8080/",
          "height": 488
        },
        "outputId": "3f578046-8416-4a3a-f1fa-f58a3a26e35b"
      },
      "execution_count": 6,
      "outputs": [
        {
          "output_type": "execute_result",
          "data": {
            "text/plain": [
              "      NU_INSCRICAO  NU_ANO  TP_FAIXA_ETARIA TP_SEXO  TP_ESTADO_CIVIL  \\\n",
              "0         2,10E+11    2021                5       F                1   \n",
              "1         2,10E+11    2021               12       M                1   \n",
              "2         2,10E+11    2021               13       F                3   \n",
              "3         2,10E+11    2021                3       M                1   \n",
              "4         2,10E+11    2021                2       F                1   \n",
              "...            ...     ...              ...     ...              ...   \n",
              "53098     2,10E+11    2021                4       F                1   \n",
              "53099     2,10E+11    2021               11       F                1   \n",
              "53100     2,10E+11    2021                3       M                1   \n",
              "53101     2,10E+11    2021                4       F                1   \n",
              "53102     2,10E+11    2021                2       M                1   \n",
              "\n",
              "       TP_COR_RACA  TP_NACIONALIDADE  TP_ST_CONCLUSAO  TP_ANO_CONCLUIU  \\\n",
              "0                1                 1                1                3   \n",
              "1                1                 1                1               11   \n",
              "2                1                 1                1               15   \n",
              "3                3                 1                2                0   \n",
              "4                3                 1                2                0   \n",
              "...            ...               ...              ...              ...   \n",
              "53098            3                 1                1                3   \n",
              "53099            2                 1                1                5   \n",
              "53100            1                 1                1                2   \n",
              "53101            3                 1                1                1   \n",
              "53102            3                 1                2                0   \n",
              "\n",
              "       TP_ESCOLA  ...  NU_NOTA_LC  NU_NOTA_MT  TP_LINGUA TP_STATUS_REDACAO  \\\n",
              "0              1  ...       472.6         NaN        1.0               1.0   \n",
              "1              1  ...       498.3       461.5        1.0               1.0   \n",
              "2              1  ...         NaN         NaN        1.0               NaN   \n",
              "3              2  ...       638.9       659.5        0.0               1.0   \n",
              "4              2  ...       457.6       582.6        1.0               1.0   \n",
              "...          ...  ...         ...         ...        ...               ...   \n",
              "53098          1  ...       637.7       713.2        1.0               1.0   \n",
              "53099          1  ...       427.9       455.5        1.0               1.0   \n",
              "53100          1  ...       557.5       524.4        0.0               1.0   \n",
              "53101          1  ...         NaN         NaN        0.0               NaN   \n",
              "53102          2  ...         NaN         NaN        NaN               NaN   \n",
              "\n",
              "       NU_NOTA_COMP1 NU_NOTA_COMP2  NU_NOTA_COMP3  NU_NOTA_COMP4  \\\n",
              "0              140.0         120.0          120.0          180.0   \n",
              "1              120.0         120.0          120.0          120.0   \n",
              "2                NaN           NaN            NaN            NaN   \n",
              "3              120.0         180.0          120.0          200.0   \n",
              "4              120.0         140.0          160.0          180.0   \n",
              "...              ...           ...            ...            ...   \n",
              "53098          160.0         200.0          200.0          200.0   \n",
              "53099           60.0         120.0           80.0           80.0   \n",
              "53100          140.0         180.0          120.0          120.0   \n",
              "53101            NaN           NaN            NaN            NaN   \n",
              "53102            NaN           NaN            NaN            NaN   \n",
              "\n",
              "       NU_NOTA_COMP5  NU_NOTA_REDACAO  \n",
              "0              200.0            760.0  \n",
              "1               80.0            560.0  \n",
              "2                NaN              NaN  \n",
              "3              160.0            780.0  \n",
              "4              180.0            780.0  \n",
              "...              ...              ...  \n",
              "53098          200.0            960.0  \n",
              "53099           60.0            400.0  \n",
              "53100            0.0            560.0  \n",
              "53101            NaN              NaN  \n",
              "53102            NaN              NaN  \n",
              "\n",
              "[53103 rows x 43 columns]"
            ],
            "text/html": [
              "\n",
              "  <div id=\"df-e997333b-17ef-461a-8bdb-d14facced9a7\">\n",
              "    <div class=\"colab-df-container\">\n",
              "      <div>\n",
              "<style scoped>\n",
              "    .dataframe tbody tr th:only-of-type {\n",
              "        vertical-align: middle;\n",
              "    }\n",
              "\n",
              "    .dataframe tbody tr th {\n",
              "        vertical-align: top;\n",
              "    }\n",
              "\n",
              "    .dataframe thead th {\n",
              "        text-align: right;\n",
              "    }\n",
              "</style>\n",
              "<table border=\"1\" class=\"dataframe\">\n",
              "  <thead>\n",
              "    <tr style=\"text-align: right;\">\n",
              "      <th></th>\n",
              "      <th>NU_INSCRICAO</th>\n",
              "      <th>NU_ANO</th>\n",
              "      <th>TP_FAIXA_ETARIA</th>\n",
              "      <th>TP_SEXO</th>\n",
              "      <th>TP_ESTADO_CIVIL</th>\n",
              "      <th>TP_COR_RACA</th>\n",
              "      <th>TP_NACIONALIDADE</th>\n",
              "      <th>TP_ST_CONCLUSAO</th>\n",
              "      <th>TP_ANO_CONCLUIU</th>\n",
              "      <th>TP_ESCOLA</th>\n",
              "      <th>...</th>\n",
              "      <th>NU_NOTA_LC</th>\n",
              "      <th>NU_NOTA_MT</th>\n",
              "      <th>TP_LINGUA</th>\n",
              "      <th>TP_STATUS_REDACAO</th>\n",
              "      <th>NU_NOTA_COMP1</th>\n",
              "      <th>NU_NOTA_COMP2</th>\n",
              "      <th>NU_NOTA_COMP3</th>\n",
              "      <th>NU_NOTA_COMP4</th>\n",
              "      <th>NU_NOTA_COMP5</th>\n",
              "      <th>NU_NOTA_REDACAO</th>\n",
              "    </tr>\n",
              "  </thead>\n",
              "  <tbody>\n",
              "    <tr>\n",
              "      <th>0</th>\n",
              "      <td>2,10E+11</td>\n",
              "      <td>2021</td>\n",
              "      <td>5</td>\n",
              "      <td>F</td>\n",
              "      <td>1</td>\n",
              "      <td>1</td>\n",
              "      <td>1</td>\n",
              "      <td>1</td>\n",
              "      <td>3</td>\n",
              "      <td>1</td>\n",
              "      <td>...</td>\n",
              "      <td>472.6</td>\n",
              "      <td>NaN</td>\n",
              "      <td>1.0</td>\n",
              "      <td>1.0</td>\n",
              "      <td>140.0</td>\n",
              "      <td>120.0</td>\n",
              "      <td>120.0</td>\n",
              "      <td>180.0</td>\n",
              "      <td>200.0</td>\n",
              "      <td>760.0</td>\n",
              "    </tr>\n",
              "    <tr>\n",
              "      <th>1</th>\n",
              "      <td>2,10E+11</td>\n",
              "      <td>2021</td>\n",
              "      <td>12</td>\n",
              "      <td>M</td>\n",
              "      <td>1</td>\n",
              "      <td>1</td>\n",
              "      <td>1</td>\n",
              "      <td>1</td>\n",
              "      <td>11</td>\n",
              "      <td>1</td>\n",
              "      <td>...</td>\n",
              "      <td>498.3</td>\n",
              "      <td>461.5</td>\n",
              "      <td>1.0</td>\n",
              "      <td>1.0</td>\n",
              "      <td>120.0</td>\n",
              "      <td>120.0</td>\n",
              "      <td>120.0</td>\n",
              "      <td>120.0</td>\n",
              "      <td>80.0</td>\n",
              "      <td>560.0</td>\n",
              "    </tr>\n",
              "    <tr>\n",
              "      <th>2</th>\n",
              "      <td>2,10E+11</td>\n",
              "      <td>2021</td>\n",
              "      <td>13</td>\n",
              "      <td>F</td>\n",
              "      <td>3</td>\n",
              "      <td>1</td>\n",
              "      <td>1</td>\n",
              "      <td>1</td>\n",
              "      <td>15</td>\n",
              "      <td>1</td>\n",
              "      <td>...</td>\n",
              "      <td>NaN</td>\n",
              "      <td>NaN</td>\n",
              "      <td>1.0</td>\n",
              "      <td>NaN</td>\n",
              "      <td>NaN</td>\n",
              "      <td>NaN</td>\n",
              "      <td>NaN</td>\n",
              "      <td>NaN</td>\n",
              "      <td>NaN</td>\n",
              "      <td>NaN</td>\n",
              "    </tr>\n",
              "    <tr>\n",
              "      <th>3</th>\n",
              "      <td>2,10E+11</td>\n",
              "      <td>2021</td>\n",
              "      <td>3</td>\n",
              "      <td>M</td>\n",
              "      <td>1</td>\n",
              "      <td>3</td>\n",
              "      <td>1</td>\n",
              "      <td>2</td>\n",
              "      <td>0</td>\n",
              "      <td>2</td>\n",
              "      <td>...</td>\n",
              "      <td>638.9</td>\n",
              "      <td>659.5</td>\n",
              "      <td>0.0</td>\n",
              "      <td>1.0</td>\n",
              "      <td>120.0</td>\n",
              "      <td>180.0</td>\n",
              "      <td>120.0</td>\n",
              "      <td>200.0</td>\n",
              "      <td>160.0</td>\n",
              "      <td>780.0</td>\n",
              "    </tr>\n",
              "    <tr>\n",
              "      <th>4</th>\n",
              "      <td>2,10E+11</td>\n",
              "      <td>2021</td>\n",
              "      <td>2</td>\n",
              "      <td>F</td>\n",
              "      <td>1</td>\n",
              "      <td>3</td>\n",
              "      <td>1</td>\n",
              "      <td>2</td>\n",
              "      <td>0</td>\n",
              "      <td>2</td>\n",
              "      <td>...</td>\n",
              "      <td>457.6</td>\n",
              "      <td>582.6</td>\n",
              "      <td>1.0</td>\n",
              "      <td>1.0</td>\n",
              "      <td>120.0</td>\n",
              "      <td>140.0</td>\n",
              "      <td>160.0</td>\n",
              "      <td>180.0</td>\n",
              "      <td>180.0</td>\n",
              "      <td>780.0</td>\n",
              "    </tr>\n",
              "    <tr>\n",
              "      <th>...</th>\n",
              "      <td>...</td>\n",
              "      <td>...</td>\n",
              "      <td>...</td>\n",
              "      <td>...</td>\n",
              "      <td>...</td>\n",
              "      <td>...</td>\n",
              "      <td>...</td>\n",
              "      <td>...</td>\n",
              "      <td>...</td>\n",
              "      <td>...</td>\n",
              "      <td>...</td>\n",
              "      <td>...</td>\n",
              "      <td>...</td>\n",
              "      <td>...</td>\n",
              "      <td>...</td>\n",
              "      <td>...</td>\n",
              "      <td>...</td>\n",
              "      <td>...</td>\n",
              "      <td>...</td>\n",
              "      <td>...</td>\n",
              "      <td>...</td>\n",
              "    </tr>\n",
              "    <tr>\n",
              "      <th>53098</th>\n",
              "      <td>2,10E+11</td>\n",
              "      <td>2021</td>\n",
              "      <td>4</td>\n",
              "      <td>F</td>\n",
              "      <td>1</td>\n",
              "      <td>3</td>\n",
              "      <td>1</td>\n",
              "      <td>1</td>\n",
              "      <td>3</td>\n",
              "      <td>1</td>\n",
              "      <td>...</td>\n",
              "      <td>637.7</td>\n",
              "      <td>713.2</td>\n",
              "      <td>1.0</td>\n",
              "      <td>1.0</td>\n",
              "      <td>160.0</td>\n",
              "      <td>200.0</td>\n",
              "      <td>200.0</td>\n",
              "      <td>200.0</td>\n",
              "      <td>200.0</td>\n",
              "      <td>960.0</td>\n",
              "    </tr>\n",
              "    <tr>\n",
              "      <th>53099</th>\n",
              "      <td>2,10E+11</td>\n",
              "      <td>2021</td>\n",
              "      <td>11</td>\n",
              "      <td>F</td>\n",
              "      <td>1</td>\n",
              "      <td>2</td>\n",
              "      <td>1</td>\n",
              "      <td>1</td>\n",
              "      <td>5</td>\n",
              "      <td>1</td>\n",
              "      <td>...</td>\n",
              "      <td>427.9</td>\n",
              "      <td>455.5</td>\n",
              "      <td>1.0</td>\n",
              "      <td>1.0</td>\n",
              "      <td>60.0</td>\n",
              "      <td>120.0</td>\n",
              "      <td>80.0</td>\n",
              "      <td>80.0</td>\n",
              "      <td>60.0</td>\n",
              "      <td>400.0</td>\n",
              "    </tr>\n",
              "    <tr>\n",
              "      <th>53100</th>\n",
              "      <td>2,10E+11</td>\n",
              "      <td>2021</td>\n",
              "      <td>3</td>\n",
              "      <td>M</td>\n",
              "      <td>1</td>\n",
              "      <td>1</td>\n",
              "      <td>1</td>\n",
              "      <td>1</td>\n",
              "      <td>2</td>\n",
              "      <td>1</td>\n",
              "      <td>...</td>\n",
              "      <td>557.5</td>\n",
              "      <td>524.4</td>\n",
              "      <td>0.0</td>\n",
              "      <td>1.0</td>\n",
              "      <td>140.0</td>\n",
              "      <td>180.0</td>\n",
              "      <td>120.0</td>\n",
              "      <td>120.0</td>\n",
              "      <td>0.0</td>\n",
              "      <td>560.0</td>\n",
              "    </tr>\n",
              "    <tr>\n",
              "      <th>53101</th>\n",
              "      <td>2,10E+11</td>\n",
              "      <td>2021</td>\n",
              "      <td>4</td>\n",
              "      <td>F</td>\n",
              "      <td>1</td>\n",
              "      <td>3</td>\n",
              "      <td>1</td>\n",
              "      <td>1</td>\n",
              "      <td>1</td>\n",
              "      <td>1</td>\n",
              "      <td>...</td>\n",
              "      <td>NaN</td>\n",
              "      <td>NaN</td>\n",
              "      <td>0.0</td>\n",
              "      <td>NaN</td>\n",
              "      <td>NaN</td>\n",
              "      <td>NaN</td>\n",
              "      <td>NaN</td>\n",
              "      <td>NaN</td>\n",
              "      <td>NaN</td>\n",
              "      <td>NaN</td>\n",
              "    </tr>\n",
              "    <tr>\n",
              "      <th>53102</th>\n",
              "      <td>2,10E+11</td>\n",
              "      <td>2021</td>\n",
              "      <td>2</td>\n",
              "      <td>M</td>\n",
              "      <td>1</td>\n",
              "      <td>3</td>\n",
              "      <td>1</td>\n",
              "      <td>2</td>\n",
              "      <td>0</td>\n",
              "      <td>2</td>\n",
              "      <td>...</td>\n",
              "      <td>NaN</td>\n",
              "      <td>NaN</td>\n",
              "      <td>NaN</td>\n",
              "      <td>NaN</td>\n",
              "      <td>NaN</td>\n",
              "      <td>NaN</td>\n",
              "      <td>NaN</td>\n",
              "      <td>NaN</td>\n",
              "      <td>NaN</td>\n",
              "      <td>NaN</td>\n",
              "    </tr>\n",
              "  </tbody>\n",
              "</table>\n",
              "<p>53103 rows × 43 columns</p>\n",
              "</div>\n",
              "      <button class=\"colab-df-convert\" onclick=\"convertToInteractive('df-e997333b-17ef-461a-8bdb-d14facced9a7')\"\n",
              "              title=\"Convert this dataframe to an interactive table.\"\n",
              "              style=\"display:none;\">\n",
              "        \n",
              "  <svg xmlns=\"http://www.w3.org/2000/svg\" height=\"24px\"viewBox=\"0 0 24 24\"\n",
              "       width=\"24px\">\n",
              "    <path d=\"M0 0h24v24H0V0z\" fill=\"none\"/>\n",
              "    <path d=\"M18.56 5.44l.94 2.06.94-2.06 2.06-.94-2.06-.94-.94-2.06-.94 2.06-2.06.94zm-11 1L8.5 8.5l.94-2.06 2.06-.94-2.06-.94L8.5 2.5l-.94 2.06-2.06.94zm10 10l.94 2.06.94-2.06 2.06-.94-2.06-.94-.94-2.06-.94 2.06-2.06.94z\"/><path d=\"M17.41 7.96l-1.37-1.37c-.4-.4-.92-.59-1.43-.59-.52 0-1.04.2-1.43.59L10.3 9.45l-7.72 7.72c-.78.78-.78 2.05 0 2.83L4 21.41c.39.39.9.59 1.41.59.51 0 1.02-.2 1.41-.59l7.78-7.78 2.81-2.81c.8-.78.8-2.07 0-2.86zM5.41 20L4 18.59l7.72-7.72 1.47 1.35L5.41 20z\"/>\n",
              "  </svg>\n",
              "      </button>\n",
              "      \n",
              "  <style>\n",
              "    .colab-df-container {\n",
              "      display:flex;\n",
              "      flex-wrap:wrap;\n",
              "      gap: 12px;\n",
              "    }\n",
              "\n",
              "    .colab-df-convert {\n",
              "      background-color: #E8F0FE;\n",
              "      border: none;\n",
              "      border-radius: 50%;\n",
              "      cursor: pointer;\n",
              "      display: none;\n",
              "      fill: #1967D2;\n",
              "      height: 32px;\n",
              "      padding: 0 0 0 0;\n",
              "      width: 32px;\n",
              "    }\n",
              "\n",
              "    .colab-df-convert:hover {\n",
              "      background-color: #E2EBFA;\n",
              "      box-shadow: 0px 1px 2px rgba(60, 64, 67, 0.3), 0px 1px 3px 1px rgba(60, 64, 67, 0.15);\n",
              "      fill: #174EA6;\n",
              "    }\n",
              "\n",
              "    [theme=dark] .colab-df-convert {\n",
              "      background-color: #3B4455;\n",
              "      fill: #D2E3FC;\n",
              "    }\n",
              "\n",
              "    [theme=dark] .colab-df-convert:hover {\n",
              "      background-color: #434B5C;\n",
              "      box-shadow: 0px 1px 3px 1px rgba(0, 0, 0, 0.15);\n",
              "      filter: drop-shadow(0px 1px 2px rgba(0, 0, 0, 0.3));\n",
              "      fill: #FFFFFF;\n",
              "    }\n",
              "  </style>\n",
              "\n",
              "      <script>\n",
              "        const buttonEl =\n",
              "          document.querySelector('#df-e997333b-17ef-461a-8bdb-d14facced9a7 button.colab-df-convert');\n",
              "        buttonEl.style.display =\n",
              "          google.colab.kernel.accessAllowed ? 'block' : 'none';\n",
              "\n",
              "        async function convertToInteractive(key) {\n",
              "          const element = document.querySelector('#df-e997333b-17ef-461a-8bdb-d14facced9a7');\n",
              "          const dataTable =\n",
              "            await google.colab.kernel.invokeFunction('convertToInteractive',\n",
              "                                                     [key], {});\n",
              "          if (!dataTable) return;\n",
              "\n",
              "          const docLinkHtml = 'Like what you see? Visit the ' +\n",
              "            '<a target=\"_blank\" href=https://colab.research.google.com/notebooks/data_table.ipynb>data table notebook</a>'\n",
              "            + ' to learn more about interactive tables.';\n",
              "          element.innerHTML = '';\n",
              "          dataTable['output_type'] = 'display_data';\n",
              "          await google.colab.output.renderOutput(dataTable, element);\n",
              "          const docLink = document.createElement('div');\n",
              "          docLink.innerHTML = docLinkHtml;\n",
              "          element.appendChild(docLink);\n",
              "        }\n",
              "      </script>\n",
              "    </div>\n",
              "  </div>\n",
              "  "
            ]
          },
          "metadata": {},
          "execution_count": 6
        }
      ]
    },
    {
      "cell_type": "code",
      "source": [
        "df.columns"
      ],
      "metadata": {
        "id": "9oxDqE5s9flQ",
        "colab": {
          "base_uri": "https://localhost:8080/"
        },
        "outputId": "d655cf3d-8eef-4b20-c09d-42a6c222b201"
      },
      "execution_count": 7,
      "outputs": [
        {
          "output_type": "execute_result",
          "data": {
            "text/plain": [
              "Index(['NU_INSCRICAO', 'NU_ANO', 'TP_FAIXA_ETARIA', 'TP_SEXO',\n",
              "       'TP_ESTADO_CIVIL', 'TP_COR_RACA', 'TP_NACIONALIDADE', 'TP_ST_CONCLUSAO',\n",
              "       'TP_ANO_CONCLUIU', 'TP_ESCOLA', 'TP_ENSINO', 'IN_TREINEIRO',\n",
              "       'CO_MUNICIPIO_ESC', 'NO_MUNICIPIO_ESC', 'CO_UF_ESC', 'SG_UF_ESC',\n",
              "       'TP_DEPENDENCIA_ADM_ESC', 'TP_LOCALIZACAO_ESC', 'TP_SIT_FUNC_ESC',\n",
              "       'CO_MUNICIPIO_PROVA', 'NO_MUNICIPIO_PROVA', 'CO_UF_PROVA',\n",
              "       'SG_UF_PROVA', 'TP_PRESENCA_CN', 'TP_PRESENCA_CH', 'TP_PRESENCA_LC',\n",
              "       'TP_PRESENCA_MT', 'CO_PROVA_CN', 'CO_PROVA_CH', 'CO_PROVA_LC',\n",
              "       'CO_PROVA_MT', 'NU_NOTA_CN', 'NU_NOTA_CH', 'NU_NOTA_LC', 'NU_NOTA_MT',\n",
              "       'TP_LINGUA', 'TP_STATUS_REDACAO', 'NU_NOTA_COMP1', 'NU_NOTA_COMP2',\n",
              "       'NU_NOTA_COMP3', 'NU_NOTA_COMP4', 'NU_NOTA_COMP5', 'NU_NOTA_REDACAO'],\n",
              "      dtype='object')"
            ]
          },
          "metadata": {},
          "execution_count": 7
        }
      ]
    },
    {
      "cell_type": "code",
      "source": [
        "df.shape"
      ],
      "metadata": {
        "id": "EM2a4xav--2A",
        "colab": {
          "base_uri": "https://localhost:8080/"
        },
        "outputId": "8d24ede3-0156-4ef2-8d1c-7c76b49d03d6"
      },
      "execution_count": 8,
      "outputs": [
        {
          "output_type": "execute_result",
          "data": {
            "text/plain": [
              "(53103, 43)"
            ]
          },
          "metadata": {},
          "execution_count": 8
        }
      ]
    },
    {
      "cell_type": "code",
      "source": [
        "df.tail()"
      ],
      "metadata": {
        "id": "AkFuu13A_D9l",
        "colab": {
          "base_uri": "https://localhost:8080/",
          "height": 300
        },
        "outputId": "52f8a252-3232-4a7f-9b03-0ab9b774092b"
      },
      "execution_count": 9,
      "outputs": [
        {
          "output_type": "execute_result",
          "data": {
            "text/plain": [
              "      NU_INSCRICAO  NU_ANO  TP_FAIXA_ETARIA TP_SEXO  TP_ESTADO_CIVIL  \\\n",
              "53098     2,10E+11    2021                4       F                1   \n",
              "53099     2,10E+11    2021               11       F                1   \n",
              "53100     2,10E+11    2021                3       M                1   \n",
              "53101     2,10E+11    2021                4       F                1   \n",
              "53102     2,10E+11    2021                2       M                1   \n",
              "\n",
              "       TP_COR_RACA  TP_NACIONALIDADE  TP_ST_CONCLUSAO  TP_ANO_CONCLUIU  \\\n",
              "53098            3                 1                1                3   \n",
              "53099            2                 1                1                5   \n",
              "53100            1                 1                1                2   \n",
              "53101            3                 1                1                1   \n",
              "53102            3                 1                2                0   \n",
              "\n",
              "       TP_ESCOLA  ...  NU_NOTA_LC  NU_NOTA_MT  TP_LINGUA TP_STATUS_REDACAO  \\\n",
              "53098          1  ...       637.7       713.2        1.0               1.0   \n",
              "53099          1  ...       427.9       455.5        1.0               1.0   \n",
              "53100          1  ...       557.5       524.4        0.0               1.0   \n",
              "53101          1  ...         NaN         NaN        0.0               NaN   \n",
              "53102          2  ...         NaN         NaN        NaN               NaN   \n",
              "\n",
              "       NU_NOTA_COMP1 NU_NOTA_COMP2  NU_NOTA_COMP3  NU_NOTA_COMP4  \\\n",
              "53098          160.0         200.0          200.0          200.0   \n",
              "53099           60.0         120.0           80.0           80.0   \n",
              "53100          140.0         180.0          120.0          120.0   \n",
              "53101            NaN           NaN            NaN            NaN   \n",
              "53102            NaN           NaN            NaN            NaN   \n",
              "\n",
              "       NU_NOTA_COMP5  NU_NOTA_REDACAO  \n",
              "53098          200.0            960.0  \n",
              "53099           60.0            400.0  \n",
              "53100            0.0            560.0  \n",
              "53101            NaN              NaN  \n",
              "53102            NaN              NaN  \n",
              "\n",
              "[5 rows x 43 columns]"
            ],
            "text/html": [
              "\n",
              "  <div id=\"df-ab1c74db-f26e-475a-9e59-859ebb314828\">\n",
              "    <div class=\"colab-df-container\">\n",
              "      <div>\n",
              "<style scoped>\n",
              "    .dataframe tbody tr th:only-of-type {\n",
              "        vertical-align: middle;\n",
              "    }\n",
              "\n",
              "    .dataframe tbody tr th {\n",
              "        vertical-align: top;\n",
              "    }\n",
              "\n",
              "    .dataframe thead th {\n",
              "        text-align: right;\n",
              "    }\n",
              "</style>\n",
              "<table border=\"1\" class=\"dataframe\">\n",
              "  <thead>\n",
              "    <tr style=\"text-align: right;\">\n",
              "      <th></th>\n",
              "      <th>NU_INSCRICAO</th>\n",
              "      <th>NU_ANO</th>\n",
              "      <th>TP_FAIXA_ETARIA</th>\n",
              "      <th>TP_SEXO</th>\n",
              "      <th>TP_ESTADO_CIVIL</th>\n",
              "      <th>TP_COR_RACA</th>\n",
              "      <th>TP_NACIONALIDADE</th>\n",
              "      <th>TP_ST_CONCLUSAO</th>\n",
              "      <th>TP_ANO_CONCLUIU</th>\n",
              "      <th>TP_ESCOLA</th>\n",
              "      <th>...</th>\n",
              "      <th>NU_NOTA_LC</th>\n",
              "      <th>NU_NOTA_MT</th>\n",
              "      <th>TP_LINGUA</th>\n",
              "      <th>TP_STATUS_REDACAO</th>\n",
              "      <th>NU_NOTA_COMP1</th>\n",
              "      <th>NU_NOTA_COMP2</th>\n",
              "      <th>NU_NOTA_COMP3</th>\n",
              "      <th>NU_NOTA_COMP4</th>\n",
              "      <th>NU_NOTA_COMP5</th>\n",
              "      <th>NU_NOTA_REDACAO</th>\n",
              "    </tr>\n",
              "  </thead>\n",
              "  <tbody>\n",
              "    <tr>\n",
              "      <th>53098</th>\n",
              "      <td>2,10E+11</td>\n",
              "      <td>2021</td>\n",
              "      <td>4</td>\n",
              "      <td>F</td>\n",
              "      <td>1</td>\n",
              "      <td>3</td>\n",
              "      <td>1</td>\n",
              "      <td>1</td>\n",
              "      <td>3</td>\n",
              "      <td>1</td>\n",
              "      <td>...</td>\n",
              "      <td>637.7</td>\n",
              "      <td>713.2</td>\n",
              "      <td>1.0</td>\n",
              "      <td>1.0</td>\n",
              "      <td>160.0</td>\n",
              "      <td>200.0</td>\n",
              "      <td>200.0</td>\n",
              "      <td>200.0</td>\n",
              "      <td>200.0</td>\n",
              "      <td>960.0</td>\n",
              "    </tr>\n",
              "    <tr>\n",
              "      <th>53099</th>\n",
              "      <td>2,10E+11</td>\n",
              "      <td>2021</td>\n",
              "      <td>11</td>\n",
              "      <td>F</td>\n",
              "      <td>1</td>\n",
              "      <td>2</td>\n",
              "      <td>1</td>\n",
              "      <td>1</td>\n",
              "      <td>5</td>\n",
              "      <td>1</td>\n",
              "      <td>...</td>\n",
              "      <td>427.9</td>\n",
              "      <td>455.5</td>\n",
              "      <td>1.0</td>\n",
              "      <td>1.0</td>\n",
              "      <td>60.0</td>\n",
              "      <td>120.0</td>\n",
              "      <td>80.0</td>\n",
              "      <td>80.0</td>\n",
              "      <td>60.0</td>\n",
              "      <td>400.0</td>\n",
              "    </tr>\n",
              "    <tr>\n",
              "      <th>53100</th>\n",
              "      <td>2,10E+11</td>\n",
              "      <td>2021</td>\n",
              "      <td>3</td>\n",
              "      <td>M</td>\n",
              "      <td>1</td>\n",
              "      <td>1</td>\n",
              "      <td>1</td>\n",
              "      <td>1</td>\n",
              "      <td>2</td>\n",
              "      <td>1</td>\n",
              "      <td>...</td>\n",
              "      <td>557.5</td>\n",
              "      <td>524.4</td>\n",
              "      <td>0.0</td>\n",
              "      <td>1.0</td>\n",
              "      <td>140.0</td>\n",
              "      <td>180.0</td>\n",
              "      <td>120.0</td>\n",
              "      <td>120.0</td>\n",
              "      <td>0.0</td>\n",
              "      <td>560.0</td>\n",
              "    </tr>\n",
              "    <tr>\n",
              "      <th>53101</th>\n",
              "      <td>2,10E+11</td>\n",
              "      <td>2021</td>\n",
              "      <td>4</td>\n",
              "      <td>F</td>\n",
              "      <td>1</td>\n",
              "      <td>3</td>\n",
              "      <td>1</td>\n",
              "      <td>1</td>\n",
              "      <td>1</td>\n",
              "      <td>1</td>\n",
              "      <td>...</td>\n",
              "      <td>NaN</td>\n",
              "      <td>NaN</td>\n",
              "      <td>0.0</td>\n",
              "      <td>NaN</td>\n",
              "      <td>NaN</td>\n",
              "      <td>NaN</td>\n",
              "      <td>NaN</td>\n",
              "      <td>NaN</td>\n",
              "      <td>NaN</td>\n",
              "      <td>NaN</td>\n",
              "    </tr>\n",
              "    <tr>\n",
              "      <th>53102</th>\n",
              "      <td>2,10E+11</td>\n",
              "      <td>2021</td>\n",
              "      <td>2</td>\n",
              "      <td>M</td>\n",
              "      <td>1</td>\n",
              "      <td>3</td>\n",
              "      <td>1</td>\n",
              "      <td>2</td>\n",
              "      <td>0</td>\n",
              "      <td>2</td>\n",
              "      <td>...</td>\n",
              "      <td>NaN</td>\n",
              "      <td>NaN</td>\n",
              "      <td>NaN</td>\n",
              "      <td>NaN</td>\n",
              "      <td>NaN</td>\n",
              "      <td>NaN</td>\n",
              "      <td>NaN</td>\n",
              "      <td>NaN</td>\n",
              "      <td>NaN</td>\n",
              "      <td>NaN</td>\n",
              "    </tr>\n",
              "  </tbody>\n",
              "</table>\n",
              "<p>5 rows × 43 columns</p>\n",
              "</div>\n",
              "      <button class=\"colab-df-convert\" onclick=\"convertToInteractive('df-ab1c74db-f26e-475a-9e59-859ebb314828')\"\n",
              "              title=\"Convert this dataframe to an interactive table.\"\n",
              "              style=\"display:none;\">\n",
              "        \n",
              "  <svg xmlns=\"http://www.w3.org/2000/svg\" height=\"24px\"viewBox=\"0 0 24 24\"\n",
              "       width=\"24px\">\n",
              "    <path d=\"M0 0h24v24H0V0z\" fill=\"none\"/>\n",
              "    <path d=\"M18.56 5.44l.94 2.06.94-2.06 2.06-.94-2.06-.94-.94-2.06-.94 2.06-2.06.94zm-11 1L8.5 8.5l.94-2.06 2.06-.94-2.06-.94L8.5 2.5l-.94 2.06-2.06.94zm10 10l.94 2.06.94-2.06 2.06-.94-2.06-.94-.94-2.06-.94 2.06-2.06.94z\"/><path d=\"M17.41 7.96l-1.37-1.37c-.4-.4-.92-.59-1.43-.59-.52 0-1.04.2-1.43.59L10.3 9.45l-7.72 7.72c-.78.78-.78 2.05 0 2.83L4 21.41c.39.39.9.59 1.41.59.51 0 1.02-.2 1.41-.59l7.78-7.78 2.81-2.81c.8-.78.8-2.07 0-2.86zM5.41 20L4 18.59l7.72-7.72 1.47 1.35L5.41 20z\"/>\n",
              "  </svg>\n",
              "      </button>\n",
              "      \n",
              "  <style>\n",
              "    .colab-df-container {\n",
              "      display:flex;\n",
              "      flex-wrap:wrap;\n",
              "      gap: 12px;\n",
              "    }\n",
              "\n",
              "    .colab-df-convert {\n",
              "      background-color: #E8F0FE;\n",
              "      border: none;\n",
              "      border-radius: 50%;\n",
              "      cursor: pointer;\n",
              "      display: none;\n",
              "      fill: #1967D2;\n",
              "      height: 32px;\n",
              "      padding: 0 0 0 0;\n",
              "      width: 32px;\n",
              "    }\n",
              "\n",
              "    .colab-df-convert:hover {\n",
              "      background-color: #E2EBFA;\n",
              "      box-shadow: 0px 1px 2px rgba(60, 64, 67, 0.3), 0px 1px 3px 1px rgba(60, 64, 67, 0.15);\n",
              "      fill: #174EA6;\n",
              "    }\n",
              "\n",
              "    [theme=dark] .colab-df-convert {\n",
              "      background-color: #3B4455;\n",
              "      fill: #D2E3FC;\n",
              "    }\n",
              "\n",
              "    [theme=dark] .colab-df-convert:hover {\n",
              "      background-color: #434B5C;\n",
              "      box-shadow: 0px 1px 3px 1px rgba(0, 0, 0, 0.15);\n",
              "      filter: drop-shadow(0px 1px 2px rgba(0, 0, 0, 0.3));\n",
              "      fill: #FFFFFF;\n",
              "    }\n",
              "  </style>\n",
              "\n",
              "      <script>\n",
              "        const buttonEl =\n",
              "          document.querySelector('#df-ab1c74db-f26e-475a-9e59-859ebb314828 button.colab-df-convert');\n",
              "        buttonEl.style.display =\n",
              "          google.colab.kernel.accessAllowed ? 'block' : 'none';\n",
              "\n",
              "        async function convertToInteractive(key) {\n",
              "          const element = document.querySelector('#df-ab1c74db-f26e-475a-9e59-859ebb314828');\n",
              "          const dataTable =\n",
              "            await google.colab.kernel.invokeFunction('convertToInteractive',\n",
              "                                                     [key], {});\n",
              "          if (!dataTable) return;\n",
              "\n",
              "          const docLinkHtml = 'Like what you see? Visit the ' +\n",
              "            '<a target=\"_blank\" href=https://colab.research.google.com/notebooks/data_table.ipynb>data table notebook</a>'\n",
              "            + ' to learn more about interactive tables.';\n",
              "          element.innerHTML = '';\n",
              "          dataTable['output_type'] = 'display_data';\n",
              "          await google.colab.output.renderOutput(dataTable, element);\n",
              "          const docLink = document.createElement('div');\n",
              "          docLink.innerHTML = docLinkHtml;\n",
              "          element.appendChild(docLink);\n",
              "        }\n",
              "      </script>\n",
              "    </div>\n",
              "  </div>\n",
              "  "
            ]
          },
          "metadata": {},
          "execution_count": 9
        }
      ]
    },
    {
      "cell_type": "code",
      "source": [
        "df.info()"
      ],
      "metadata": {
        "colab": {
          "base_uri": "https://localhost:8080/"
        },
        "id": "WsQCvVgeSdil",
        "outputId": "da02783c-b830-4c42-bb01-78ba35455a88"
      },
      "execution_count": 10,
      "outputs": [
        {
          "output_type": "stream",
          "name": "stdout",
          "text": [
            "<class 'pandas.core.frame.DataFrame'>\n",
            "RangeIndex: 53103 entries, 0 to 53102\n",
            "Data columns (total 43 columns):\n",
            " #   Column                  Non-Null Count  Dtype  \n",
            "---  ------                  --------------  -----  \n",
            " 0   NU_INSCRICAO            53103 non-null  object \n",
            " 1   NU_ANO                  53103 non-null  int64  \n",
            " 2   TP_FAIXA_ETARIA         53103 non-null  int64  \n",
            " 3   TP_SEXO                 53103 non-null  object \n",
            " 4   TP_ESTADO_CIVIL         53103 non-null  int64  \n",
            " 5   TP_COR_RACA             53103 non-null  int64  \n",
            " 6   TP_NACIONALIDADE        53103 non-null  int64  \n",
            " 7   TP_ST_CONCLUSAO         53103 non-null  int64  \n",
            " 8   TP_ANO_CONCLUIU         53103 non-null  int64  \n",
            " 9   TP_ESCOLA               53103 non-null  int64  \n",
            " 10  TP_ENSINO               22639 non-null  float64\n",
            " 11  IN_TREINEIRO            53103 non-null  int64  \n",
            " 12  CO_MUNICIPIO_ESC        13759 non-null  float64\n",
            " 13  NO_MUNICIPIO_ESC        13759 non-null  object \n",
            " 14  CO_UF_ESC               13759 non-null  float64\n",
            " 15  SG_UF_ESC               13759 non-null  object \n",
            " 16  TP_DEPENDENCIA_ADM_ESC  13759 non-null  float64\n",
            " 17  TP_LOCALIZACAO_ESC      13759 non-null  float64\n",
            " 18  TP_SIT_FUNC_ESC         13759 non-null  float64\n",
            " 19  CO_MUNICIPIO_PROVA      53103 non-null  int64  \n",
            " 20  NO_MUNICIPIO_PROVA      53102 non-null  object \n",
            " 21  CO_UF_PROVA             53102 non-null  float64\n",
            " 22  SG_UF_PROVA             53102 non-null  object \n",
            " 23  TP_PRESENCA_CN          53102 non-null  float64\n",
            " 24  TP_PRESENCA_CH          53102 non-null  float64\n",
            " 25  TP_PRESENCA_LC          53102 non-null  float64\n",
            " 26  TP_PRESENCA_MT          53102 non-null  float64\n",
            " 27  CO_PROVA_CN             41596 non-null  float64\n",
            " 28  CO_PROVA_CH             43298 non-null  float64\n",
            " 29  CO_PROVA_LC             43298 non-null  float64\n",
            " 30  CO_PROVA_MT             41596 non-null  float64\n",
            " 31  NU_NOTA_CN              41596 non-null  float64\n",
            " 32  NU_NOTA_CH              43298 non-null  float64\n",
            " 33  NU_NOTA_LC              43298 non-null  float64\n",
            " 34  NU_NOTA_MT              41596 non-null  float64\n",
            " 35  TP_LINGUA               53102 non-null  float64\n",
            " 36  TP_STATUS_REDACAO       43298 non-null  float64\n",
            " 37  NU_NOTA_COMP1           43298 non-null  float64\n",
            " 38  NU_NOTA_COMP2           43298 non-null  float64\n",
            " 39  NU_NOTA_COMP3           43298 non-null  float64\n",
            " 40  NU_NOTA_COMP4           43298 non-null  float64\n",
            " 41  NU_NOTA_COMP5           43298 non-null  float64\n",
            " 42  NU_NOTA_REDACAO         43298 non-null  float64\n",
            "dtypes: float64(27), int64(10), object(6)\n",
            "memory usage: 17.4+ MB\n"
          ]
        }
      ]
    },
    {
      "cell_type": "code",
      "source": [
        "cinco_primeiros = df.head()"
      ],
      "metadata": {
        "id": "ccgV_ZCq_PRR"
      },
      "execution_count": 11,
      "outputs": []
    },
    {
      "cell_type": "code",
      "source": [
        " #to_string() é chamada para imprimir o DataFrame como uma string, onde a opção index=False é utilizada para não imprimir os índices das linhas.\n",
        "print(cinco_primeiros.to_string(index=False))"
      ],
      "metadata": {
        "id": "b3gtHLTi_Wsd",
        "colab": {
          "base_uri": "https://localhost:8080/"
        },
        "outputId": "3ff3deac-18c9-42ab-aa6d-d8c6526e505a"
      },
      "execution_count": 12,
      "outputs": [
        {
          "output_type": "stream",
          "name": "stdout",
          "text": [
            "NU_INSCRICAO  NU_ANO  TP_FAIXA_ETARIA TP_SEXO  TP_ESTADO_CIVIL  TP_COR_RACA  TP_NACIONALIDADE  TP_ST_CONCLUSAO  TP_ANO_CONCLUIU  TP_ESCOLA  TP_ENSINO  IN_TREINEIRO  CO_MUNICIPIO_ESC NO_MUNICIPIO_ESC  CO_UF_ESC SG_UF_ESC  TP_DEPENDENCIA_ADM_ESC  TP_LOCALIZACAO_ESC  TP_SIT_FUNC_ESC  CO_MUNICIPIO_PROVA    NO_MUNICIPIO_PROVA  CO_UF_PROVA SG_UF_PROVA  TP_PRESENCA_CN  TP_PRESENCA_CH  TP_PRESENCA_LC  TP_PRESENCA_MT  CO_PROVA_CN  CO_PROVA_CH  CO_PROVA_LC  CO_PROVA_MT  NU_NOTA_CN  NU_NOTA_CH  NU_NOTA_LC  NU_NOTA_MT  TP_LINGUA  TP_STATUS_REDACAO  NU_NOTA_COMP1  NU_NOTA_COMP2  NU_NOTA_COMP3  NU_NOTA_COMP4  NU_NOTA_COMP5  NU_NOTA_REDACAO\n",
            "    2,10E+11    2021                5       F                1            1                 1                1                3          1        NaN             0               NaN              NaN        NaN       NaN                     NaN                 NaN              NaN             3144805             Nova Lima         31.0          MG             0.0             1.0             1.0             0.0          NaN        881.0        892.0          NaN         NaN       574.6       472.6         NaN        1.0                1.0          140.0          120.0          120.0          180.0          200.0            760.0\n",
            "    2,10E+11    2021               12       M                1            1                 1                1               11          1        NaN             0               NaN              NaN        NaN       NaN                     NaN                 NaN              NaN             2704302                Maceió         27.0          AL             1.0             1.0             1.0             1.0        912.0        882.0        891.0        901.0       505.9       551.8       498.3       461.5        1.0                1.0          120.0          120.0          120.0          120.0           80.0            560.0\n",
            "    2,10E+11    2021               13       F                3            1                 1                1               15          1        NaN             0               NaN              NaN        NaN       NaN                     NaN                 NaN              NaN             3515707 Ferraz de Vasconcelos         35.0          SP             0.0             0.0             0.0             0.0          NaN          NaN          NaN          NaN         NaN         NaN         NaN         NaN        1.0                NaN            NaN            NaN            NaN            NaN            NaN              NaN\n",
            "    2,10E+11    2021                3       M                1            3                 1                2                0          2        1.0             0         2304202.0            Crato       23.0        CE                     2.0                 1.0              1.0             2304202                 Crato         23.0          CE             1.0             1.0             1.0             1.0        911.0        880.0        890.0        902.0       580.7       678.9       638.9       659.5        0.0                1.0          120.0          180.0          120.0          200.0          160.0            780.0\n",
            "    2,10E+11    2021                2       F                1            3                 1                2                0          2        1.0             0         2311603.0         Redenção       23.0        CE                     2.0                 1.0              1.0             2300150               Acarape         23.0          CE             1.0             1.0             1.0             1.0        912.0        882.0        891.0        901.0       497.7       532.4       457.6       582.6        1.0                1.0          120.0          140.0          160.0          180.0          180.0            780.0\n"
          ]
        }
      ]
    },
    {
      "cell_type": "code",
      "source": [
        "df.head()"
      ],
      "metadata": {
        "id": "fBM1PSFH_p3t",
        "colab": {
          "base_uri": "https://localhost:8080/",
          "height": 300
        },
        "outputId": "394fc11b-7370-4c44-ebfe-15136b07dedd"
      },
      "execution_count": 13,
      "outputs": [
        {
          "output_type": "execute_result",
          "data": {
            "text/plain": [
              "  NU_INSCRICAO  NU_ANO  TP_FAIXA_ETARIA TP_SEXO  TP_ESTADO_CIVIL  TP_COR_RACA  \\\n",
              "0     2,10E+11    2021                5       F                1            1   \n",
              "1     2,10E+11    2021               12       M                1            1   \n",
              "2     2,10E+11    2021               13       F                3            1   \n",
              "3     2,10E+11    2021                3       M                1            3   \n",
              "4     2,10E+11    2021                2       F                1            3   \n",
              "\n",
              "   TP_NACIONALIDADE  TP_ST_CONCLUSAO  TP_ANO_CONCLUIU  TP_ESCOLA  ...  \\\n",
              "0                 1                1                3          1  ...   \n",
              "1                 1                1               11          1  ...   \n",
              "2                 1                1               15          1  ...   \n",
              "3                 1                2                0          2  ...   \n",
              "4                 1                2                0          2  ...   \n",
              "\n",
              "   NU_NOTA_LC  NU_NOTA_MT  TP_LINGUA TP_STATUS_REDACAO  NU_NOTA_COMP1  \\\n",
              "0       472.6         NaN        1.0               1.0          140.0   \n",
              "1       498.3       461.5        1.0               1.0          120.0   \n",
              "2         NaN         NaN        1.0               NaN            NaN   \n",
              "3       638.9       659.5        0.0               1.0          120.0   \n",
              "4       457.6       582.6        1.0               1.0          120.0   \n",
              "\n",
              "  NU_NOTA_COMP2  NU_NOTA_COMP3  NU_NOTA_COMP4  NU_NOTA_COMP5  NU_NOTA_REDACAO  \n",
              "0         120.0          120.0          180.0          200.0            760.0  \n",
              "1         120.0          120.0          120.0           80.0            560.0  \n",
              "2           NaN            NaN            NaN            NaN              NaN  \n",
              "3         180.0          120.0          200.0          160.0            780.0  \n",
              "4         140.0          160.0          180.0          180.0            780.0  \n",
              "\n",
              "[5 rows x 43 columns]"
            ],
            "text/html": [
              "\n",
              "  <div id=\"df-3863ea30-de6e-44c2-9426-887087ee0144\">\n",
              "    <div class=\"colab-df-container\">\n",
              "      <div>\n",
              "<style scoped>\n",
              "    .dataframe tbody tr th:only-of-type {\n",
              "        vertical-align: middle;\n",
              "    }\n",
              "\n",
              "    .dataframe tbody tr th {\n",
              "        vertical-align: top;\n",
              "    }\n",
              "\n",
              "    .dataframe thead th {\n",
              "        text-align: right;\n",
              "    }\n",
              "</style>\n",
              "<table border=\"1\" class=\"dataframe\">\n",
              "  <thead>\n",
              "    <tr style=\"text-align: right;\">\n",
              "      <th></th>\n",
              "      <th>NU_INSCRICAO</th>\n",
              "      <th>NU_ANO</th>\n",
              "      <th>TP_FAIXA_ETARIA</th>\n",
              "      <th>TP_SEXO</th>\n",
              "      <th>TP_ESTADO_CIVIL</th>\n",
              "      <th>TP_COR_RACA</th>\n",
              "      <th>TP_NACIONALIDADE</th>\n",
              "      <th>TP_ST_CONCLUSAO</th>\n",
              "      <th>TP_ANO_CONCLUIU</th>\n",
              "      <th>TP_ESCOLA</th>\n",
              "      <th>...</th>\n",
              "      <th>NU_NOTA_LC</th>\n",
              "      <th>NU_NOTA_MT</th>\n",
              "      <th>TP_LINGUA</th>\n",
              "      <th>TP_STATUS_REDACAO</th>\n",
              "      <th>NU_NOTA_COMP1</th>\n",
              "      <th>NU_NOTA_COMP2</th>\n",
              "      <th>NU_NOTA_COMP3</th>\n",
              "      <th>NU_NOTA_COMP4</th>\n",
              "      <th>NU_NOTA_COMP5</th>\n",
              "      <th>NU_NOTA_REDACAO</th>\n",
              "    </tr>\n",
              "  </thead>\n",
              "  <tbody>\n",
              "    <tr>\n",
              "      <th>0</th>\n",
              "      <td>2,10E+11</td>\n",
              "      <td>2021</td>\n",
              "      <td>5</td>\n",
              "      <td>F</td>\n",
              "      <td>1</td>\n",
              "      <td>1</td>\n",
              "      <td>1</td>\n",
              "      <td>1</td>\n",
              "      <td>3</td>\n",
              "      <td>1</td>\n",
              "      <td>...</td>\n",
              "      <td>472.6</td>\n",
              "      <td>NaN</td>\n",
              "      <td>1.0</td>\n",
              "      <td>1.0</td>\n",
              "      <td>140.0</td>\n",
              "      <td>120.0</td>\n",
              "      <td>120.0</td>\n",
              "      <td>180.0</td>\n",
              "      <td>200.0</td>\n",
              "      <td>760.0</td>\n",
              "    </tr>\n",
              "    <tr>\n",
              "      <th>1</th>\n",
              "      <td>2,10E+11</td>\n",
              "      <td>2021</td>\n",
              "      <td>12</td>\n",
              "      <td>M</td>\n",
              "      <td>1</td>\n",
              "      <td>1</td>\n",
              "      <td>1</td>\n",
              "      <td>1</td>\n",
              "      <td>11</td>\n",
              "      <td>1</td>\n",
              "      <td>...</td>\n",
              "      <td>498.3</td>\n",
              "      <td>461.5</td>\n",
              "      <td>1.0</td>\n",
              "      <td>1.0</td>\n",
              "      <td>120.0</td>\n",
              "      <td>120.0</td>\n",
              "      <td>120.0</td>\n",
              "      <td>120.0</td>\n",
              "      <td>80.0</td>\n",
              "      <td>560.0</td>\n",
              "    </tr>\n",
              "    <tr>\n",
              "      <th>2</th>\n",
              "      <td>2,10E+11</td>\n",
              "      <td>2021</td>\n",
              "      <td>13</td>\n",
              "      <td>F</td>\n",
              "      <td>3</td>\n",
              "      <td>1</td>\n",
              "      <td>1</td>\n",
              "      <td>1</td>\n",
              "      <td>15</td>\n",
              "      <td>1</td>\n",
              "      <td>...</td>\n",
              "      <td>NaN</td>\n",
              "      <td>NaN</td>\n",
              "      <td>1.0</td>\n",
              "      <td>NaN</td>\n",
              "      <td>NaN</td>\n",
              "      <td>NaN</td>\n",
              "      <td>NaN</td>\n",
              "      <td>NaN</td>\n",
              "      <td>NaN</td>\n",
              "      <td>NaN</td>\n",
              "    </tr>\n",
              "    <tr>\n",
              "      <th>3</th>\n",
              "      <td>2,10E+11</td>\n",
              "      <td>2021</td>\n",
              "      <td>3</td>\n",
              "      <td>M</td>\n",
              "      <td>1</td>\n",
              "      <td>3</td>\n",
              "      <td>1</td>\n",
              "      <td>2</td>\n",
              "      <td>0</td>\n",
              "      <td>2</td>\n",
              "      <td>...</td>\n",
              "      <td>638.9</td>\n",
              "      <td>659.5</td>\n",
              "      <td>0.0</td>\n",
              "      <td>1.0</td>\n",
              "      <td>120.0</td>\n",
              "      <td>180.0</td>\n",
              "      <td>120.0</td>\n",
              "      <td>200.0</td>\n",
              "      <td>160.0</td>\n",
              "      <td>780.0</td>\n",
              "    </tr>\n",
              "    <tr>\n",
              "      <th>4</th>\n",
              "      <td>2,10E+11</td>\n",
              "      <td>2021</td>\n",
              "      <td>2</td>\n",
              "      <td>F</td>\n",
              "      <td>1</td>\n",
              "      <td>3</td>\n",
              "      <td>1</td>\n",
              "      <td>2</td>\n",
              "      <td>0</td>\n",
              "      <td>2</td>\n",
              "      <td>...</td>\n",
              "      <td>457.6</td>\n",
              "      <td>582.6</td>\n",
              "      <td>1.0</td>\n",
              "      <td>1.0</td>\n",
              "      <td>120.0</td>\n",
              "      <td>140.0</td>\n",
              "      <td>160.0</td>\n",
              "      <td>180.0</td>\n",
              "      <td>180.0</td>\n",
              "      <td>780.0</td>\n",
              "    </tr>\n",
              "  </tbody>\n",
              "</table>\n",
              "<p>5 rows × 43 columns</p>\n",
              "</div>\n",
              "      <button class=\"colab-df-convert\" onclick=\"convertToInteractive('df-3863ea30-de6e-44c2-9426-887087ee0144')\"\n",
              "              title=\"Convert this dataframe to an interactive table.\"\n",
              "              style=\"display:none;\">\n",
              "        \n",
              "  <svg xmlns=\"http://www.w3.org/2000/svg\" height=\"24px\"viewBox=\"0 0 24 24\"\n",
              "       width=\"24px\">\n",
              "    <path d=\"M0 0h24v24H0V0z\" fill=\"none\"/>\n",
              "    <path d=\"M18.56 5.44l.94 2.06.94-2.06 2.06-.94-2.06-.94-.94-2.06-.94 2.06-2.06.94zm-11 1L8.5 8.5l.94-2.06 2.06-.94-2.06-.94L8.5 2.5l-.94 2.06-2.06.94zm10 10l.94 2.06.94-2.06 2.06-.94-2.06-.94-.94-2.06-.94 2.06-2.06.94z\"/><path d=\"M17.41 7.96l-1.37-1.37c-.4-.4-.92-.59-1.43-.59-.52 0-1.04.2-1.43.59L10.3 9.45l-7.72 7.72c-.78.78-.78 2.05 0 2.83L4 21.41c.39.39.9.59 1.41.59.51 0 1.02-.2 1.41-.59l7.78-7.78 2.81-2.81c.8-.78.8-2.07 0-2.86zM5.41 20L4 18.59l7.72-7.72 1.47 1.35L5.41 20z\"/>\n",
              "  </svg>\n",
              "      </button>\n",
              "      \n",
              "  <style>\n",
              "    .colab-df-container {\n",
              "      display:flex;\n",
              "      flex-wrap:wrap;\n",
              "      gap: 12px;\n",
              "    }\n",
              "\n",
              "    .colab-df-convert {\n",
              "      background-color: #E8F0FE;\n",
              "      border: none;\n",
              "      border-radius: 50%;\n",
              "      cursor: pointer;\n",
              "      display: none;\n",
              "      fill: #1967D2;\n",
              "      height: 32px;\n",
              "      padding: 0 0 0 0;\n",
              "      width: 32px;\n",
              "    }\n",
              "\n",
              "    .colab-df-convert:hover {\n",
              "      background-color: #E2EBFA;\n",
              "      box-shadow: 0px 1px 2px rgba(60, 64, 67, 0.3), 0px 1px 3px 1px rgba(60, 64, 67, 0.15);\n",
              "      fill: #174EA6;\n",
              "    }\n",
              "\n",
              "    [theme=dark] .colab-df-convert {\n",
              "      background-color: #3B4455;\n",
              "      fill: #D2E3FC;\n",
              "    }\n",
              "\n",
              "    [theme=dark] .colab-df-convert:hover {\n",
              "      background-color: #434B5C;\n",
              "      box-shadow: 0px 1px 3px 1px rgba(0, 0, 0, 0.15);\n",
              "      filter: drop-shadow(0px 1px 2px rgba(0, 0, 0, 0.3));\n",
              "      fill: #FFFFFF;\n",
              "    }\n",
              "  </style>\n",
              "\n",
              "      <script>\n",
              "        const buttonEl =\n",
              "          document.querySelector('#df-3863ea30-de6e-44c2-9426-887087ee0144 button.colab-df-convert');\n",
              "        buttonEl.style.display =\n",
              "          google.colab.kernel.accessAllowed ? 'block' : 'none';\n",
              "\n",
              "        async function convertToInteractive(key) {\n",
              "          const element = document.querySelector('#df-3863ea30-de6e-44c2-9426-887087ee0144');\n",
              "          const dataTable =\n",
              "            await google.colab.kernel.invokeFunction('convertToInteractive',\n",
              "                                                     [key], {});\n",
              "          if (!dataTable) return;\n",
              "\n",
              "          const docLinkHtml = 'Like what you see? Visit the ' +\n",
              "            '<a target=\"_blank\" href=https://colab.research.google.com/notebooks/data_table.ipynb>data table notebook</a>'\n",
              "            + ' to learn more about interactive tables.';\n",
              "          element.innerHTML = '';\n",
              "          dataTable['output_type'] = 'display_data';\n",
              "          await google.colab.output.renderOutput(dataTable, element);\n",
              "          const docLink = document.createElement('div');\n",
              "          docLink.innerHTML = docLinkHtml;\n",
              "          element.appendChild(docLink);\n",
              "        }\n",
              "      </script>\n",
              "    </div>\n",
              "  </div>\n",
              "  "
            ]
          },
          "metadata": {},
          "execution_count": 13
        }
      ]
    },
    {
      "cell_type": "markdown",
      "source": [
        "TP_COR_RACA\n",
        "\n",
        "\n",
        "*   0 - não declarado\n",
        "* 1 - branca\n",
        "* 2 - preta\n",
        "* 3 - parda\n",
        "* 4 - amarela\n",
        "* 5 - indígena\n",
        "* 6 não dispõe da informação\n",
        "\n",
        "\n",
        "\n"
      ],
      "metadata": {
        "id": "zPx1JtvXnumM"
      }
    },
    {
      "cell_type": "code",
      "source": [
        "df['TP_COR_RACA']"
      ],
      "metadata": {
        "colab": {
          "base_uri": "https://localhost:8080/"
        },
        "id": "0GfC53LFVH0b",
        "outputId": "6be26204-1908-4917-d088-8dfa7fde7b15"
      },
      "execution_count": 14,
      "outputs": [
        {
          "output_type": "execute_result",
          "data": {
            "text/plain": [
              "0        1\n",
              "1        1\n",
              "2        1\n",
              "3        3\n",
              "4        3\n",
              "        ..\n",
              "53098    3\n",
              "53099    2\n",
              "53100    1\n",
              "53101    3\n",
              "53102    3\n",
              "Name: TP_COR_RACA, Length: 53103, dtype: int64"
            ]
          },
          "metadata": {},
          "execution_count": 14
        }
      ]
    },
    {
      "cell_type": "code",
      "source": [
        "df['TP_COR_RACA'].value_counts()"
      ],
      "metadata": {
        "colab": {
          "base_uri": "https://localhost:8080/"
        },
        "id": "6tseR3LonWTo",
        "outputId": "345e2eb4-3873-4338-c4c5-b939ccd0696f"
      },
      "execution_count": 15,
      "outputs": [
        {
          "output_type": "execute_result",
          "data": {
            "text/plain": [
              "3    24337\n",
              "1    19533\n",
              "2     6856\n",
              "4     1157\n",
              "0      973\n",
              "5      247\n",
              "Name: TP_COR_RACA, dtype: int64"
            ]
          },
          "metadata": {},
          "execution_count": 15
        }
      ]
    },
    {
      "cell_type": "code",
      "source": [
        "import matplotlib\n",
        "import matplotlib.pyplot as plt"
      ],
      "metadata": {
        "id": "3S_ztnsmtj04"
      },
      "execution_count": 16,
      "outputs": []
    },
    {
      "cell_type": "markdown",
      "source": [
        "Gráfico Pizza - Cor Raça"
      ],
      "metadata": {
        "id": "2kVsimj-tuxP"
      }
    },
    {
      "cell_type": "code",
      "source": [
        "df['TP_COR_RACA'].value_counts().plot.pie()"
      ],
      "metadata": {
        "colab": {
          "base_uri": "https://localhost:8080/",
          "height": 423
        },
        "id": "CKHDVO3nqFlU",
        "outputId": "a1e2b276-560b-432e-b0b5-38a8351b86dd"
      },
      "execution_count": 17,
      "outputs": [
        {
          "output_type": "execute_result",
          "data": {
            "text/plain": [
              "<Axes: ylabel='TP_COR_RACA'>"
            ]
          },
          "metadata": {},
          "execution_count": 17
        },
        {
          "output_type": "display_data",
          "data": {
            "text/plain": [
              "<Figure size 640x480 with 1 Axes>"
            ],
            "image/png": "[encoded data removed]"
          },
          "metadata": {}
        }
      ]
    },
    {
      "cell_type": "code",
      "source": [
        "df['TP_COR_RACA'].value_counts().plot.pie(autopct='%1.1f%%')\n",
        "plt.title('Porcentagem de Frequência Cor/Raça')\n",
        "plt.show()"
      ],
      "metadata": {
        "colab": {
          "base_uri": "https://localhost:8080/",
          "height": 521
        },
        "id": "gMJTQAn2yP51",
        "outputId": "b2a9b1e2-3a02-41c1-f58a-558e42e81ebb"
      },
      "execution_count": 31,
      "outputs": [
        {
          "output_type": "display_data",
          "data": {
            "text/plain": [
              "<Figure size 600x600 with 1 Axes>"
            ],
            "image/png": "[encoded data removed]"
          },
          "metadata": {}
        }
      ]
    },
    {
      "cell_type": "markdown",
      "source": [
        "Gráfico de Barras - Cor Raça"
      ],
      "metadata": {
        "id": "Eglcgs7iutH3"
      }
    },
    {
      "cell_type": "code",
      "source": [
        "plt.rcParams['figure.figsize'] = [6,6] # Define o tamanho da figura\n",
        "ax = df['TP_COR_RACA'].value_counts().plot.bar()\n",
        "ax.set_xlabel('Cor/Raça')\n",
        "ax.set_ylabel('Frequência')\n",
        "ax.set_title('Frequência de Cor/Raça dos Participantes do ENEM 2021')\n",
        "plt.show()"
      ],
      "metadata": {
        "colab": {
          "base_uri": "https://localhost:8080/",
          "height": 559
        },
        "id": "u0EGYGr00_W-",
        "outputId": "bcea93e3-3233-47ee-95fc-9204968f22c9"
      },
      "execution_count": 24,
      "outputs": [
        {
          "output_type": "display_data",
          "data": {
            "text/plain": [
              "<Figure size 600x600 with 1 Axes>"
            ],
            "image/png": "[encoded data removed]"
          },
          "metadata": {}
        }
      ]
    },
    {
      "cell_type": "code",
      "source": [
        "plt.rcParams['figure.figsize'] = [6,6] # Define o tamanho da figura\n",
        "ax = df['TP_COR_RACA'].value_counts(normalize=True).mul(100).plot.bar()\n",
        "ax.set_xlabel('Cor/Raça')\n",
        "ax.set_ylabel('Porcentagem de Frequência')\n",
        "ax.set_title('Porcentagem de Frequência de Cor/Raça dos Participantes do ENEM 2021')\n",
        "plt.show()\n"
      ],
      "metadata": {
        "colab": {
          "base_uri": "https://localhost:8080/",
          "height": 559
        },
        "id": "owkt3jb9ux69",
        "outputId": "3458bc94-8bb7-4734-958f-e4f34dfdce4d"
      },
      "execution_count": 22,
      "outputs": [
        {
          "output_type": "display_data",
          "data": {
            "text/plain": [
              "<Figure size 600x600 with 1 Axes>"
            ],
            "image/png": "[encoded data removed]"
          },
          "metadata": {}
        }
      ]
    },
    {
      "cell_type": "markdown",
      "source": [
        "Gráficos do Tipo de Sexo"
      ],
      "metadata": {
        "id": "OG1_terJLjT6"
      }
    },
    {
      "cell_type": "code",
      "source": [
        "df['TP_SEXO']"
      ],
      "metadata": {
        "id": "h9CnNiXY2IEm",
        "colab": {
          "base_uri": "https://localhost:8080/"
        },
        "outputId": "8f82e547-416a-46ea-f3ef-d63346dde68f"
      },
      "execution_count": 23,
      "outputs": [
        {
          "output_type": "execute_result",
          "data": {
            "text/plain": [
              "0        F\n",
              "1        M\n",
              "2        F\n",
              "3        M\n",
              "4        F\n",
              "        ..\n",
              "53098    F\n",
              "53099    F\n",
              "53100    M\n",
              "53101    F\n",
              "53102    M\n",
              "Name: TP_SEXO, Length: 53103, dtype: object"
            ]
          },
          "metadata": {},
          "execution_count": 23
        }
      ]
    },
    {
      "cell_type": "code",
      "source": [
        "# Configura o tamanho da figura\n",
        "plt.rcParams['figure.figsize'] = [6, 6]\n",
        "\n",
        "# Plota o gráfico de pizza com a contagem absoluta e porcentagem\n",
        "ax = df['TP_SEXO'].value_counts().plot.pie(autopct=lambda pct: f'{pct:.0f}% ({pct/100*len(df):.0f})',\n",
        "                                           labels=df['TP_SEXO'].value_counts().index,\n",
        "                                           startangle=90)\n",
        "##indica onde o ângulo começará, nesse caso, 90º\n",
        "# Configura o título do gráfico\n",
        "ax.set_title('Frequência por Sexo dos Participantes do ENEM 2021')\n",
        "\n",
        "# Mostra o gráfico\n",
        "plt.show()\n"
      ],
      "metadata": {
        "colab": {
          "base_uri": "https://localhost:8080/",
          "height": 521
        },
        "id": "HUqQgidjLbLz",
        "outputId": "535d9484-6cb2-444f-afc5-9983ebfda72b"
      },
      "execution_count": 27,
      "outputs": [
        {
          "output_type": "display_data",
          "data": {
            "text/plain": [
              "<Figure size 600x600 with 1 Axes>"
            ],
            "image/png": "[encoded data removed]"
          },
          "metadata": {}
        }
      ]
    },
    {
      "cell_type": "markdown",
      "source": [
        "Mudando texto do DataFrame"
      ],
      "metadata": {
        "id": "78NL3xt-Pb9V"
      }
    },
    {
      "cell_type": "code",
      "source": [
        "df['TP_COR_RACA'] = df['TP_COR_RACA'].replace({0: 'Não declarado'})\n",
        "df['TP_COR_RACA'] = df['TP_COR_RACA'].replace({1: 'Branca'})\n",
        "df['TP_COR_RACA'] = df['TP_COR_RACA'].replace({2: 'Preta'})\n",
        "df['TP_COR_RACA'] = df['TP_COR_RACA'].replace({3: 'Parda'})\n",
        "df['TP_COR_RACA'] = df['TP_COR_RACA'].replace({4: 'Amarela'})\n",
        "df['TP_COR_RACA'] = df['TP_COR_RACA'].replace({5: 'Indígena'})\n",
        "df['TP_COR_RACA'] = df['TP_COR_RACA'].replace({6: 'Não dispõe da informação'})"
      ],
      "metadata": {
        "id": "tPqn6_M6PfYd"
      },
      "execution_count": 36,
      "outputs": []
    },
    {
      "cell_type": "code",
      "source": [
        "import pandas as pd\n",
        "import matplotlib.pyplot as plt\n",
        "\n",
        "# Gerar tabela de frequência cruzada\n",
        "freq = pd.crosstab(df['TP_SEXO'], df['TP_COR_RACA'])\n",
        "\n",
        "# Plotar gráfico de barras empilhadas\n",
        "freq.plot(kind='bar', stacked=False)\n",
        "plt.xlabel('Sexo')\n",
        "plt.ylabel('Frequência')\n",
        "plt.title('Distribuição de cor/raça por sexo')\n",
        "plt.show()\n"
      ],
      "metadata": {
        "colab": {
          "base_uri": "https://localhost:8080/",
          "height": 562
        },
        "id": "NZBASFVGLvRg",
        "outputId": "473a8494-cc9d-4cb3-db64-733e8034d723"
      },
      "execution_count": 40,
      "outputs": [
        {
          "output_type": "display_data",
          "data": {
            "text/plain": [
              "<Figure size 600x600 with 1 Axes>"
            ],
            "image/png": "[encoded data removed]"
          },
          "metadata": {}
        }
      ]
    },
    {
      "cell_type": "code",
      "source": [],
      "metadata": {
        "id": "GHQOTgsgO_Jj"
      },
      "execution_count": null,
      "outputs": []
    }
  ]
}